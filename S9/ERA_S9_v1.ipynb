{
  "cells": [
    {
      "cell_type": "markdown",
      "metadata": {
        "id": "view-in-github",
        "colab_type": "text"
      },
      "source": [
        "<a href=\"https://colab.research.google.com/github/Abhishek500/ERA/blob/main/S9/ERA_S9_v1.ipynb\" target=\"_parent\"><img src=\"https://colab.research.google.com/assets/colab-badge.svg\" alt=\"Open In Colab\"/></a>"
      ]
    },
    {
      "cell_type": "code",
      "execution_count": 1,
      "metadata": {
        "id": "57TdsCD-VK8z"
      },
      "outputs": [],
      "source": [
        "# from __future__ import print_function\n",
        "# import torch\n",
        "# import torch.nn as nn\n",
        "# import torch.nn.functional as F\n",
        "# import torch.optim as optim\n",
        "# from torchvision import datasets, transforms\n",
        "# import os\n",
        "# os.environ['KMP_DUPLICATE_LIB_OK']='True'\n",
        "# from torch.utils.data import Dataset, DataLoader\n",
        "# import albumentations as A\n",
        "# from albumentations.pytorch import ToTensorV2"
      ]
    },
    {
      "cell_type": "code",
      "source": [
        "# class CIFARDataset(Dataset):\n",
        "#     \"\"\"\n",
        "#     Custom Dataset Class\n",
        "\n",
        "#     \"\"\"\n",
        "\n",
        "#     def __init__(self, dataset, transforms=None):\n",
        "#         \"\"\"Initialize Dataset\n",
        "\n",
        "#         Args:\n",
        "#             dataset (Dataset): Pytorch Dataset instance\n",
        "#             transforms (Transform.Compose, optional): Tranform function instance. Defaults to None.\n",
        "#         \"\"\"\n",
        "#         self.transforms = transforms\n",
        "#         self.dataset = dataset\n",
        "\n",
        "#     def __len__(self):\n",
        "#         \"\"\"Get dataset length\n",
        "\n",
        "#         Returns:\n",
        "#             int: Length of dataset\n",
        "#         \"\"\"\n",
        "#         return len(self.dataset)\n",
        "\n",
        "#     def __getitem__(self, idx):\n",
        "#         \"\"\"Get an item form dataset\n",
        "\n",
        "#         Args:\n",
        "#             idx (int): id of item in dataset\n",
        "\n",
        "#         Returns:\n",
        "#             (tensor, int): Return tensor of transformer image, label\n",
        "#         \"\"\"\n",
        "#         # Read Image and Label\n",
        "#         image, label = self.dataset[idx]\n",
        "\n",
        "#         image = np.array(image)\n",
        "\n",
        "#         # Apply Transforms\n",
        "#         if self.transforms is not None:\n",
        "#             image = self.transforms(image=image)[\"image\"]\n",
        "\n",
        "#         return (image, label)\n",
        "\n",
        "\n",
        "# def get_loader(train_transform, test_transform, batch_size=bs, use_cuda=True):\n",
        "\n",
        "#     kwargs = {'num_workers': 4, 'pin_memory': True} if use_cuda else {}\n",
        "\n",
        "#     train_loader = DataLoader(\n",
        "#         CIFARDataset(datasets.CIFAR10('../data', train=True,\n",
        "#                      download=True), transforms=train_transform),\n",
        "#         batch_size=bs, shuffle=True, **kwargs)\n",
        "\n",
        "#     test_loader = DataLoader(\n",
        "#         CIFARDataset(datasets.CIFAR10('../data', train=False,\n",
        "#                      download=True), transforms=test_transform),\n",
        "#         batch_size=bs, shuffle=True, **kwargs)\n",
        "\n",
        "#     return train_loader, test_loader"
      ],
      "metadata": {
        "id": "6DA_QPaUqyif"
      },
      "execution_count": 2,
      "outputs": []
    },
    {
      "cell_type": "code",
      "source": [
        "# def get_a_train_transform():\n",
        "#     \"\"\"Get transformer for training data\n",
        "\n",
        "#     Returns:\n",
        "#         Compose: Composed transformations\n",
        "#     \"\"\"\n",
        "#     return A.Compose([\n",
        "#     A.HorizontalFlip(p=0.5),\n",
        "#     A.ShiftScaleRotate(shift_limit=0.2, scale_limit=0.1, rotate_limit=15, p=0.5),\n",
        "#     A.CoarseDropout(max_holes=1, max_height=16, max_width=16, min_holes=1, min_height=16, min_width=16, fill_value=[0.4914, 0.4822, 0.4465], mask_fill_value=None),\n",
        "#     A.Normalize((0.4914, 0.4822, 0.4465), (0.2023, 0.1994, 0.2010)),\n",
        "#     ToTensorV2()\n",
        "#     ])\n",
        "\n",
        "\n",
        "# def get_a_test_transform():\n",
        "#     \"\"\"Get transformer for test data\n",
        "\n",
        "#     Returns:\n",
        "#         Compose: Composed transformations\n",
        "#     \"\"\"\n",
        "#     return A.Compose([\n",
        "#         A.Normalize((0.4914, 0.4822, 0.4465), (0.2023, 0.1994, 0.2010)),\n",
        "#         ToTensorV2()\n",
        "#     ])"
      ],
      "metadata": {
        "id": "b7ksIHPTqnC8"
      },
      "execution_count": 3,
      "outputs": []
    },
    {
      "cell_type": "code",
      "execution_count": 4,
      "metadata": {
        "id": "HmQ7tL_6VK86"
      },
      "outputs": [],
      "source": [
        "# import torch.nn.functional as F\n",
        "# dropout_value = 0.07\n",
        "# class Net(nn.Module):\n",
        "#     def __init__(self):\n",
        "#         super(Net, self).__init__()\n",
        "#         # CONVOLUTION BLOCK 1 input 32/1/1\n",
        "#         self.convblock1 = nn.Sequential(\n",
        "#             nn.Conv2d(in_channels=3, out_channels=32, kernel_size=(3, 3), padding=1, bias=False),\n",
        "#             nn.ReLU(),\n",
        "#             nn.BatchNorm2d(32),\n",
        "#             nn.Dropout(dropout_value),\n",
        "#             nn.Conv2d(in_channels=32, out_channels=32, kernel_size=(3, 3), padding=1, bias=False),\n",
        "#             nn.ReLU(),\n",
        "#             nn.BatchNorm2d(32),\n",
        "#             nn.Dropout(dropout_value),\n",
        "#             nn.Conv2d(in_channels=32, out_channels=64, kernel_size=(3, 3), padding=1, bias=False),\n",
        "#             nn.ReLU(),\n",
        "#             nn.BatchNorm2d(64),\n",
        "#             nn.Dropout(dropout_value),\n",
        "#             nn.Conv2d(in_channels=64, out_channels=128, kernel_size=(3, 3), padding=1,groups=32, bias=False),\n",
        "#             nn.ReLU(),\n",
        "#             nn.BatchNorm2d(128),\n",
        "#             nn.Dropout(dropout_value),\n",
        "#             nn.Conv2d(in_channels=128, out_channels=10, kernel_size=(3, 3), padding=1, dilation=2, bias=False),\n",
        "#             nn.ReLU(),\n",
        "#             nn.BatchNorm2d(10),\n",
        "#             nn.Dropout(dropout_value)\n",
        "#             ) # output_size = 32/3\n",
        "\n",
        "#         self.convblock2 = nn.Sequential(\n",
        "#             nn.Conv2d(in_channels=10, out_channels=32, kernel_size=(3, 3), padding=1, bias=False),\n",
        "#             nn.ReLU(),\n",
        "#             nn.BatchNorm2d(32),\n",
        "#             nn.Dropout(dropout_value),\n",
        "#             nn.Conv2d(in_channels=32, out_channels=64, kernel_size=(3, 3), padding=1, bias=False),\n",
        "#             nn.ReLU(),\n",
        "#             nn.BatchNorm2d(64),\n",
        "#             nn.Dropout(dropout_value),\n",
        "#             nn.Conv2d(in_channels=64, out_channels=128, kernel_size=(3, 3), padding=1,groups=32, bias=False),\n",
        "#             nn.ReLU(),\n",
        "#             nn.BatchNorm2d(128),\n",
        "#             nn.Dropout(dropout_value),\n",
        "#             nn.Conv2d(in_channels=128, out_channels=10, kernel_size=(3, 3), padding=1, dilation=2, bias=False),\n",
        "#             nn.ReLU(),\n",
        "#             nn.BatchNorm2d(10),\n",
        "#             nn.Dropout(dropout_value)\n",
        "#             ) # output_size = 32/3\n",
        "\n",
        "#         self.convblock3 = nn.Sequential(\n",
        "#             nn.Conv2d(in_channels=10, out_channels=32, kernel_size=(3, 3), padding=1, bias=False),\n",
        "#             nn.ReLU(),\n",
        "#             nn.BatchNorm2d(32),\n",
        "#             nn.Dropout(dropout_value),\n",
        "#             nn.Conv2d(in_channels=32, out_channels=64, kernel_size=(3, 3), padding=1, bias=False),\n",
        "#             nn.ReLU(),\n",
        "#             nn.BatchNorm2d(64),\n",
        "#             nn.Dropout(dropout_value),\n",
        "#             nn.Conv2d(in_channels=64, out_channels=128, kernel_size=(3, 3), padding=1,groups=32, bias=False),\n",
        "#             nn.ReLU(),\n",
        "#             nn.BatchNorm2d(128),\n",
        "#             nn.Dropout(dropout_value),\n",
        "#             nn.Conv2d(in_channels=128, out_channels=10, kernel_size=(3, 3), padding=1, dilation=2, bias=False),\n",
        "#             nn.ReLU(),\n",
        "#             nn.BatchNorm2d(10),\n",
        "#             nn.Dropout(dropout_value)\n",
        "#             ) # output_size = 32/3\n",
        "\n",
        "\n",
        "#         self.convblock4 = nn.Sequential(\n",
        "#             nn.Conv2d(in_channels=10, out_channels=64, kernel_size=(3, 3), padding=1, bias=False),\n",
        "#             nn.ReLU(),\n",
        "#             nn.BatchNorm2d(64),\n",
        "#             nn.Dropout(dropout_value),\n",
        "#             nn.Conv2d(in_channels=64, out_channels=128, kernel_size=(3, 3), padding=1, groups=32 ,bias=False),\n",
        "#             nn.ReLU(),\n",
        "#             nn.BatchNorm2d(128),\n",
        "#             nn.Dropout(dropout_value),\n",
        "#             nn.Conv2d(in_channels=128, out_channels=32, kernel_size=(3, 3), padding=1,dilation=2, bias=False),\n",
        "#             nn.ReLU(),\n",
        "#             nn.BatchNorm2d(32),\n",
        "#             nn.Dropout(dropout_value)\n",
        "#             ) # output_size = 32/3\n",
        "\n",
        "#         # OUTPUT BLOCK\n",
        "#         self.gap = nn.Sequential(\n",
        "#             nn.AdaptiveAvgPool2d(1)\n",
        "#         ) # output_size = 1\n",
        "#         self.outputblock = nn.Linear(32, 10,bias=False)\n",
        "#         #self.outputblock = nn.Sequential(\n",
        "#         #    nn.Conv2d(in_channels=32, out_channels=10, kernel_size=(1, 1), padding=0, bias=False),\n",
        "#         #     # nn.BatchNorm2d(10),\n",
        "#         #     # nn.ReLU(),\n",
        "#         #     # nn.Dropout(dropout_value)\n",
        "#         #)\n",
        "\n",
        "\n",
        "#         self.dropout = nn.Dropout(dropout_value)\n",
        "\n",
        "#     def forward(self, x):\n",
        "#         x = self.convblock1(x)\n",
        "#         x = self.convblock2(x)\n",
        "#         x = self.convblock3(x)\n",
        "\n",
        "#         x = self.convblock4(x)\n",
        "\n",
        "#         x = self.gap(x)\n",
        "#         x = x.view(x.size(0), -1)\n",
        "#         x = self.outputblock(x)\n",
        "\n",
        "\n",
        "#         return F.log_softmax(x, dim=-1)"
      ]
    },
    {
      "cell_type": "code",
      "execution_count": 5,
      "metadata": {
        "id": "DL1CTUbPVK87"
      },
      "outputs": [],
      "source": [
        "# from tqdm import tqdm\n",
        "\n",
        "# train_losses = []\n",
        "# test_losses = []\n",
        "# train_acc = []\n",
        "# test_acc = []\n",
        "\n",
        "# def train(model, device, train_loader, optimizer, epoch):\n",
        "#   model.train()\n",
        "#   pbar = tqdm(train_loader)\n",
        "#   correct = 0\n",
        "#   processed = 0\n",
        "#   for batch_idx, (data, target) in enumerate(pbar):\n",
        "#     # get samples\n",
        "#     data, target = data.to(device), target.to(device)\n",
        "\n",
        "#     # Init\n",
        "#     optimizer.zero_grad()\n",
        "#     # In PyTorch, we need to set the gradients to zero before starting to do backpropragation because PyTorch accumulates the gradients on subsequent backward passes.\n",
        "#     # Because of this, when you start your training loop, ideally you should zero out the gradients so that you do the parameter update correctly.\n",
        "\n",
        "#     # Predict\n",
        "#     y_pred = model(data)\n",
        "\n",
        "#     # Calculate loss\n",
        "#     loss = F.nll_loss(y_pred, target)\n",
        "#     train_losses.append(loss)\n",
        "\n",
        "#     # Backpropagation\n",
        "#     loss.backward()\n",
        "#     optimizer.step()\n",
        "\n",
        "#     # Update pbar-tqdm\n",
        "\n",
        "#     pred = y_pred.argmax(dim=1, keepdim=True)  # get the index of the max log-probability\n",
        "#     correct += pred.eq(target.view_as(pred)).sum().item()\n",
        "#     processed += len(data)\n",
        "\n",
        "#     pbar.set_description(desc= f'Loss={loss.item()} Batch_id={batch_idx} Accuracy={100*correct/processed:0.2f}')\n",
        "#     train_acc.append(100*correct/processed)\n",
        "\n",
        "# def test(model, device, test_loader):\n",
        "#     model.eval()\n",
        "#     test_loss = 0\n",
        "#     correct = 0\n",
        "#     with torch.no_grad():\n",
        "#         for data, target in test_loader:\n",
        "#             data, target = data.to(device), target.to(device)\n",
        "#             output = model(data)\n",
        "#             test_loss += F.nll_loss(output, target, reduction='sum').item()  # sum up batch loss\n",
        "#             pred = output.argmax(dim=1, keepdim=True)  # get the index of the max log-probability\n",
        "#             correct += pred.eq(target.view_as(pred)).sum().item()\n",
        "\n",
        "#     test_loss /= len(test_loader.dataset)\n",
        "#     test_losses.append(test_loss)\n",
        "\n",
        "#     print('\\nTest set: Average loss: {:.4f}, Accuracy: {}/{} ({:.2f}%)\\n'.format(\n",
        "#         test_loss, correct, len(test_loader.dataset),\n",
        "#         100. * correct / len(test_loader.dataset)))\n",
        "\n",
        "#     test_acc.append(100. * correct / len(test_loader.dataset))"
      ]
    },
    {
      "cell_type": "code",
      "source": [
        "from __future__ import print_function\n",
        "import os\n",
        "import torch"
      ],
      "metadata": {
        "id": "qyV5yLwJshcC"
      },
      "execution_count": 6,
      "outputs": []
    },
    {
      "cell_type": "code",
      "source": [
        "from model import *\n",
        "from dataloader import *\n",
        "from training import *\n",
        "from transformation import *"
      ],
      "metadata": {
        "id": "6lX6-tw6tUka"
      },
      "execution_count": 7,
      "outputs": []
    },
    {
      "cell_type": "code",
      "source": [
        "bs=32\n",
        "SEED=1\n",
        "torch.manual_seed(SEED)\n",
        "cuda = torch.cuda.is_available()\n",
        "use_cuda = torch.cuda.is_available()\n",
        "print(\"CUDA Available?\", cuda)"
      ],
      "metadata": {
        "id": "Ly6tIfWdqyXX",
        "colab": {
          "base_uri": "https://localhost:8080/"
        },
        "outputId": "5a44aa2e-bfd9-4257-f509-f09e68e919e9"
      },
      "execution_count": 8,
      "outputs": [
        {
          "output_type": "stream",
          "name": "stdout",
          "text": [
            "CUDA Available? True\n"
          ]
        }
      ]
    },
    {
      "cell_type": "code",
      "source": [
        "train_loader, test_loader = get_loader(get_a_train_transform(), get_a_test_transform(), batch_size=batchsize(bs), use_cuda=use_cuda)"
      ],
      "metadata": {
        "id": "9ByIWeaAqa51",
        "colab": {
          "base_uri": "https://localhost:8080/"
        },
        "outputId": "c2ed2e49-136a-4045-c7db-9fa5fd56b01a"
      },
      "execution_count": 9,
      "outputs": [
        {
          "output_type": "stream",
          "name": "stdout",
          "text": [
            "Files already downloaded and verified\n"
          ]
        },
        {
          "output_type": "stream",
          "name": "stderr",
          "text": [
            "/usr/local/lib/python3.10/dist-packages/torch/utils/data/dataloader.py:560: UserWarning: This DataLoader will create 4 worker processes in total. Our suggested max number of worker in current system is 2, which is smaller than what this DataLoader is going to create. Please be aware that excessive worker creation might get DataLoader running slow or even freeze, lower the worker number to avoid potential slowness/freeze if necessary.\n",
            "  warnings.warn(_create_warning_msg(\n"
          ]
        },
        {
          "output_type": "stream",
          "name": "stdout",
          "text": [
            "Files already downloaded and verified\n"
          ]
        }
      ]
    },
    {
      "cell_type": "code",
      "execution_count": 10,
      "metadata": {
        "id": "as_YgMBvVK85",
        "colab": {
          "base_uri": "https://localhost:8080/",
          "height": 248
        },
        "outputId": "6820b82d-a9f1-4165-83da-949774505634"
      },
      "outputs": [
        {
          "output_type": "stream",
          "name": "stderr",
          "text": [
            "WARNING:matplotlib.image:Clipping input data to the valid range for imshow with RGB data ([0..1] for floats or [0..255] for integers).\n"
          ]
        },
        {
          "output_type": "display_data",
          "data": {
            "text/plain": [
              "<Figure size 640x480 with 1 Axes>"
            ],
            "image/png": "[encoded data removed]"
          },
          "metadata": {}
        },
        {
          "output_type": "stream",
          "name": "stdout",
          "text": [
            "ship  bird  cat   dog  \n"
          ]
        }
      ],
      "source": [
        "import matplotlib.pyplot as plt\n",
        "import numpy as np\n",
        "\n",
        "# functions to show an image\n",
        "\n",
        "\n",
        "def imshow(img):\n",
        "    img = img / 2 + 0.5     # unnormalize\n",
        "    npimg = img.numpy()\n",
        "    plt.imshow(np.transpose(npimg, (1, 2, 0)))\n",
        "    plt.show()\n",
        "\n",
        "\n",
        "# get some random training images\n",
        "dataiter = iter(train_loader)\n",
        "images, labels = next(dataiter)\n",
        "classes = ('plane', 'car', 'bird', 'cat',\n",
        "           'deer', 'dog', 'frog', 'horse', 'ship', 'truck')\n",
        "\n",
        "import torchvision\n",
        "# show images\n",
        "imshow(torchvision.utils.make_grid(images[:4]))\n",
        "# print labels\n",
        "print(' '.join(f'{classes[labels[j]]:5s}' for j in range(4)))"
      ]
    },
    {
      "cell_type": "code",
      "execution_count": 11,
      "metadata": {
        "id": "2J4_qMpHVK87",
        "colab": {
          "base_uri": "https://localhost:8080/"
        },
        "outputId": "6267060a-8996-4b12-d558-bfd5878f1b09"
      },
      "outputs": [
        {
          "output_type": "stream",
          "name": "stdout",
          "text": [
            "Requirement already satisfied: torchsummary in /usr/local/lib/python3.10/dist-packages (1.5.1)\n",
            "cuda\n",
            "----------------------------------------------------------------\n",
            "        Layer (type)               Output Shape         Param #\n",
            "================================================================\n",
            "            Conv2d-1           [-1, 32, 32, 32]             864\n",
            "              ReLU-2           [-1, 32, 32, 32]               0\n",
            "       BatchNorm2d-3           [-1, 32, 32, 32]              64\n",
            "           Dropout-4           [-1, 32, 32, 32]               0\n",
            "            Conv2d-5           [-1, 32, 32, 32]           9,216\n",
            "              ReLU-6           [-1, 32, 32, 32]               0\n",
            "       BatchNorm2d-7           [-1, 32, 32, 32]              64\n",
            "           Dropout-8           [-1, 32, 32, 32]               0\n",
            "            Conv2d-9           [-1, 64, 32, 32]          18,432\n",
            "             ReLU-10           [-1, 64, 32, 32]               0\n",
            "      BatchNorm2d-11           [-1, 64, 32, 32]             128\n",
            "          Dropout-12           [-1, 64, 32, 32]               0\n",
            "           Conv2d-13          [-1, 128, 32, 32]           2,304\n",
            "             ReLU-14          [-1, 128, 32, 32]               0\n",
            "      BatchNorm2d-15          [-1, 128, 32, 32]             256\n",
            "          Dropout-16          [-1, 128, 32, 32]               0\n",
            "           Conv2d-17           [-1, 10, 30, 30]          11,520\n",
            "             ReLU-18           [-1, 10, 30, 30]               0\n",
            "      BatchNorm2d-19           [-1, 10, 30, 30]              20\n",
            "          Dropout-20           [-1, 10, 30, 30]               0\n",
            "           Conv2d-21           [-1, 32, 30, 30]           2,880\n",
            "             ReLU-22           [-1, 32, 30, 30]               0\n",
            "      BatchNorm2d-23           [-1, 32, 30, 30]              64\n",
            "          Dropout-24           [-1, 32, 30, 30]               0\n",
            "           Conv2d-25           [-1, 64, 30, 30]          18,432\n",
            "             ReLU-26           [-1, 64, 30, 30]               0\n",
            "      BatchNorm2d-27           [-1, 64, 30, 30]             128\n",
            "          Dropout-28           [-1, 64, 30, 30]               0\n",
            "           Conv2d-29          [-1, 128, 30, 30]           2,304\n",
            "             ReLU-30          [-1, 128, 30, 30]               0\n",
            "      BatchNorm2d-31          [-1, 128, 30, 30]             256\n",
            "          Dropout-32          [-1, 128, 30, 30]               0\n",
            "           Conv2d-33           [-1, 10, 28, 28]          11,520\n",
            "             ReLU-34           [-1, 10, 28, 28]               0\n",
            "      BatchNorm2d-35           [-1, 10, 28, 28]              20\n",
            "          Dropout-36           [-1, 10, 28, 28]               0\n",
            "           Conv2d-37           [-1, 32, 28, 28]           2,880\n",
            "             ReLU-38           [-1, 32, 28, 28]               0\n",
            "      BatchNorm2d-39           [-1, 32, 28, 28]              64\n",
            "          Dropout-40           [-1, 32, 28, 28]               0\n",
            "           Conv2d-41           [-1, 64, 28, 28]          18,432\n",
            "             ReLU-42           [-1, 64, 28, 28]               0\n",
            "      BatchNorm2d-43           [-1, 64, 28, 28]             128\n",
            "          Dropout-44           [-1, 64, 28, 28]               0\n",
            "           Conv2d-45          [-1, 128, 28, 28]           2,304\n",
            "             ReLU-46          [-1, 128, 28, 28]               0\n",
            "      BatchNorm2d-47          [-1, 128, 28, 28]             256\n",
            "          Dropout-48          [-1, 128, 28, 28]               0\n",
            "           Conv2d-49           [-1, 10, 26, 26]          11,520\n",
            "             ReLU-50           [-1, 10, 26, 26]               0\n",
            "      BatchNorm2d-51           [-1, 10, 26, 26]              20\n",
            "          Dropout-52           [-1, 10, 26, 26]               0\n",
            "           Conv2d-53           [-1, 64, 26, 26]           5,760\n",
            "             ReLU-54           [-1, 64, 26, 26]               0\n",
            "      BatchNorm2d-55           [-1, 64, 26, 26]             128\n",
            "          Dropout-56           [-1, 64, 26, 26]               0\n",
            "           Conv2d-57          [-1, 128, 26, 26]           2,304\n",
            "             ReLU-58          [-1, 128, 26, 26]               0\n",
            "      BatchNorm2d-59          [-1, 128, 26, 26]             256\n",
            "          Dropout-60          [-1, 128, 26, 26]               0\n",
            "           Conv2d-61           [-1, 32, 24, 24]          36,864\n",
            "             ReLU-62           [-1, 32, 24, 24]               0\n",
            "      BatchNorm2d-63           [-1, 32, 24, 24]              64\n",
            "          Dropout-64           [-1, 32, 24, 24]               0\n",
            "AdaptiveAvgPool2d-65             [-1, 32, 1, 1]               0\n",
            "           Linear-66                   [-1, 10]             320\n",
            "================================================================\n",
            "Total params: 159,772\n",
            "Trainable params: 159,772\n",
            "Non-trainable params: 0\n",
            "----------------------------------------------------------------\n",
            "Input size (MB): 0.01\n",
            "Forward/backward pass size (MB): 24.76\n",
            "Params size (MB): 0.61\n",
            "Estimated Total Size (MB): 25.38\n",
            "----------------------------------------------------------------\n"
          ]
        }
      ],
      "source": [
        "!pip install torchsummary\n",
        "from torchsummary import summary\n",
        "use_cuda = torch.cuda.is_available()\n",
        "device = torch.device(\"cuda\" if use_cuda else \"cpu\")\n",
        "print(device)\n",
        "model = Net().to(device)\n",
        "summary(model, input_size=(3, 32, 32))"
      ]
    },
    {
      "cell_type": "code",
      "source": [
        "\n",
        "# import torch.optim.lr_scheduler as lr_scheduler\n",
        "\n",
        "# model = Net().to(device)\n",
        "# max_lr=2\n",
        "# optimizer = optim.SGD(model.parameters(),lr=max_lr/5,momentum=0.9)\n",
        "# EPOCHS = 5\n",
        "# iterations_per_epoch = len(train_loader)\n",
        "# total_iterations = EPOCHS * iterations_per_epoch\n",
        "# # Create the OneCycleLR scheduler\n",
        "# scheduler = lr_scheduler.OneCycleLR(optimizer, max_lr=max_lr, total_steps = 128 * len(train_loader) ,pct_start=0.4,\\\n",
        "#                                     verbose=True, three_phase=True,  div_factor=5, final_div_factor=10000.0, cycle_momentum = True)\n",
        "# for epoch in range(128):\n",
        "#     print(\"EPOCH:\", epoch)\n",
        "#     train(model, device, train_loader, optimizer, epoch)\n",
        "#     test(model, device, test_loader)\n",
        "#     optimizer.step()\n",
        "#     scheduler.step()\n"
      ],
      "metadata": {
        "id": "wzfYjSkD2Q-Z"
      },
      "execution_count": 12,
      "outputs": []
    },
    {
      "cell_type": "code",
      "source": [
        "from torch.optim.lr_scheduler import StepLR\n",
        "\n",
        "model =  Net().to(device)\n",
        "optimizer = optim.SGD(model.parameters(), lr=0.01, momentum=0.9)\n",
        "scheduler = StepLR(optimizer, step_size=5, gamma=0.2,verbose=True)\n",
        "\n",
        "\n",
        "EPOCHS = 20\n",
        "for epoch in range(EPOCHS):\n",
        "    print(\"EPOCH:\", epoch)\n",
        "    train(model, device, train_loader, optimizer, epoch)\n",
        "    test(model, device, test_loader)\n",
        "    scheduler.step()\n"
      ],
      "metadata": {
        "id": "IbuuRmfA0HS-",
        "colab": {
          "base_uri": "https://localhost:8080/"
        },
        "outputId": "b179564f-d3ea-4f7e-81bb-eb0a207e2858"
      },
      "execution_count": 13,
      "outputs": [
        {
          "output_type": "stream",
          "name": "stdout",
          "text": [
            "Adjusting learning rate of group 0 to 1.0000e-02.\n",
            "EPOCH: 0\n"
          ]
        },
        {
          "output_type": "stream",
          "name": "stderr",
          "text": [
            "Loss=1.5999659299850464 Batch_id=1562 Accuracy=33.91: 100%|██████████| 1563/1563 [00:58<00:00, 26.84it/s]\n"
          ]
        },
        {
          "output_type": "stream",
          "name": "stdout",
          "text": [
            "\n",
            "Test set: Average loss: 1.4275, Accuracy: 4695/10000 (46.95%)\n",
            "\n",
            "Adjusting learning rate of group 0 to 1.0000e-02.\n",
            "EPOCH: 1\n"
          ]
        },
        {
          "output_type": "stream",
          "name": "stderr",
          "text": [
            "Loss=1.3595542907714844 Batch_id=1562 Accuracy=46.28: 100%|██████████| 1563/1563 [00:52<00:00, 29.78it/s]\n"
          ]
        },
        {
          "output_type": "stream",
          "name": "stdout",
          "text": [
            "\n",
            "Test set: Average loss: 1.1805, Accuracy: 5762/10000 (57.62%)\n",
            "\n",
            "Adjusting learning rate of group 0 to 1.0000e-02.\n",
            "EPOCH: 2\n"
          ]
        },
        {
          "output_type": "stream",
          "name": "stderr",
          "text": [
            "Loss=1.436975359916687 Batch_id=1562 Accuracy=52.52: 100%|██████████| 1563/1563 [00:55<00:00, 27.94it/s]\n"
          ]
        },
        {
          "output_type": "stream",
          "name": "stdout",
          "text": [
            "\n",
            "Test set: Average loss: 1.0517, Accuracy: 6222/10000 (62.22%)\n",
            "\n",
            "Adjusting learning rate of group 0 to 1.0000e-02.\n",
            "EPOCH: 3\n"
          ]
        },
        {
          "output_type": "stream",
          "name": "stderr",
          "text": [
            "Loss=1.2757914066314697 Batch_id=1562 Accuracy=55.05: 100%|██████████| 1563/1563 [00:51<00:00, 30.37it/s]\n"
          ]
        },
        {
          "output_type": "stream",
          "name": "stdout",
          "text": [
            "\n",
            "Test set: Average loss: 0.9820, Accuracy: 6453/10000 (64.53%)\n",
            "\n",
            "Adjusting learning rate of group 0 to 1.0000e-02.\n",
            "EPOCH: 4\n"
          ]
        },
        {
          "output_type": "stream",
          "name": "stderr",
          "text": [
            "Loss=0.9551605582237244 Batch_id=1562 Accuracy=57.72: 100%|██████████| 1563/1563 [00:53<00:00, 29.44it/s]\n"
          ]
        },
        {
          "output_type": "stream",
          "name": "stdout",
          "text": [
            "\n",
            "Test set: Average loss: 0.9559, Accuracy: 6546/10000 (65.46%)\n",
            "\n",
            "Adjusting learning rate of group 0 to 2.0000e-03.\n",
            "EPOCH: 5\n"
          ]
        },
        {
          "output_type": "stream",
          "name": "stderr",
          "text": [
            "Loss=1.495598554611206 Batch_id=1562 Accuracy=61.95: 100%|██████████| 1563/1563 [00:50<00:00, 30.65it/s]\n"
          ]
        },
        {
          "output_type": "stream",
          "name": "stdout",
          "text": [
            "\n",
            "Test set: Average loss: 0.8419, Accuracy: 6967/10000 (69.67%)\n",
            "\n",
            "Adjusting learning rate of group 0 to 2.0000e-03.\n",
            "EPOCH: 6\n"
          ]
        },
        {
          "output_type": "stream",
          "name": "stderr",
          "text": [
            "Loss=1.5936501026153564 Batch_id=1562 Accuracy=62.66: 100%|██████████| 1563/1563 [00:50<00:00, 30.73it/s]\n"
          ]
        },
        {
          "output_type": "stream",
          "name": "stdout",
          "text": [
            "\n",
            "Test set: Average loss: 0.8147, Accuracy: 7096/10000 (70.96%)\n",
            "\n",
            "Adjusting learning rate of group 0 to 2.0000e-03.\n",
            "EPOCH: 7\n"
          ]
        },
        {
          "output_type": "stream",
          "name": "stderr",
          "text": [
            "Loss=1.0091278553009033 Batch_id=1562 Accuracy=63.25: 100%|██████████| 1563/1563 [00:52<00:00, 29.96it/s]\n"
          ]
        },
        {
          "output_type": "stream",
          "name": "stdout",
          "text": [
            "\n",
            "Test set: Average loss: 0.7863, Accuracy: 7190/10000 (71.90%)\n",
            "\n",
            "Adjusting learning rate of group 0 to 2.0000e-03.\n",
            "EPOCH: 8\n"
          ]
        },
        {
          "output_type": "stream",
          "name": "stderr",
          "text": [
            "Loss=1.2816219329833984 Batch_id=1562 Accuracy=63.98: 100%|██████████| 1563/1563 [00:51<00:00, 30.42it/s]\n"
          ]
        },
        {
          "output_type": "stream",
          "name": "stdout",
          "text": [
            "\n",
            "Test set: Average loss: 0.7967, Accuracy: 7146/10000 (71.46%)\n",
            "\n",
            "Adjusting learning rate of group 0 to 2.0000e-03.\n",
            "EPOCH: 9\n"
          ]
        },
        {
          "output_type": "stream",
          "name": "stderr",
          "text": [
            "Loss=0.5968533754348755 Batch_id=1562 Accuracy=64.52: 100%|██████████| 1563/1563 [00:51<00:00, 30.36it/s]\n"
          ]
        },
        {
          "output_type": "stream",
          "name": "stdout",
          "text": [
            "\n",
            "Test set: Average loss: 0.7720, Accuracy: 7234/10000 (72.34%)\n",
            "\n",
            "Adjusting learning rate of group 0 to 4.0000e-04.\n",
            "EPOCH: 10\n"
          ]
        },
        {
          "output_type": "stream",
          "name": "stderr",
          "text": [
            "Loss=0.7913303375244141 Batch_id=1562 Accuracy=65.82: 100%|██████████| 1563/1563 [00:50<00:00, 30.81it/s]\n"
          ]
        },
        {
          "output_type": "stream",
          "name": "stdout",
          "text": [
            "\n",
            "Test set: Average loss: 0.7474, Accuracy: 7337/10000 (73.37%)\n",
            "\n",
            "Adjusting learning rate of group 0 to 4.0000e-04.\n",
            "EPOCH: 11\n"
          ]
        },
        {
          "output_type": "stream",
          "name": "stderr",
          "text": [
            "Loss=0.7063477039337158 Batch_id=1562 Accuracy=65.54: 100%|██████████| 1563/1563 [00:51<00:00, 30.47it/s]\n"
          ]
        },
        {
          "output_type": "stream",
          "name": "stdout",
          "text": [
            "\n",
            "Test set: Average loss: 0.7625, Accuracy: 7269/10000 (72.69%)\n",
            "\n",
            "Adjusting learning rate of group 0 to 4.0000e-04.\n",
            "EPOCH: 12\n"
          ]
        },
        {
          "output_type": "stream",
          "name": "stderr",
          "text": [
            "Loss=1.021653652191162 Batch_id=1562 Accuracy=66.27: 100%|██████████| 1563/1563 [00:52<00:00, 29.83it/s]\n"
          ]
        },
        {
          "output_type": "stream",
          "name": "stdout",
          "text": [
            "\n",
            "Test set: Average loss: 0.7418, Accuracy: 7345/10000 (73.45%)\n",
            "\n",
            "Adjusting learning rate of group 0 to 4.0000e-04.\n",
            "EPOCH: 13\n"
          ]
        },
        {
          "output_type": "stream",
          "name": "stderr",
          "text": [
            "Loss=0.9809622168540955 Batch_id=1562 Accuracy=66.27: 100%|██████████| 1563/1563 [00:51<00:00, 30.53it/s]\n"
          ]
        },
        {
          "output_type": "stream",
          "name": "stdout",
          "text": [
            "\n",
            "Test set: Average loss: 0.7437, Accuracy: 7342/10000 (73.42%)\n",
            "\n",
            "Adjusting learning rate of group 0 to 4.0000e-04.\n",
            "EPOCH: 14\n"
          ]
        },
        {
          "output_type": "stream",
          "name": "stderr",
          "text": [
            "Loss=1.2121095657348633 Batch_id=1562 Accuracy=66.39: 100%|██████████| 1563/1563 [00:51<00:00, 30.26it/s]\n"
          ]
        },
        {
          "output_type": "stream",
          "name": "stdout",
          "text": [
            "\n",
            "Test set: Average loss: 0.7372, Accuracy: 7378/10000 (73.78%)\n",
            "\n",
            "Adjusting learning rate of group 0 to 8.0000e-05.\n",
            "EPOCH: 15\n"
          ]
        },
        {
          "output_type": "stream",
          "name": "stderr",
          "text": [
            "Loss=1.0369160175323486 Batch_id=1562 Accuracy=66.87: 100%|██████████| 1563/1563 [00:52<00:00, 29.64it/s]\n"
          ]
        },
        {
          "output_type": "stream",
          "name": "stdout",
          "text": [
            "\n",
            "Test set: Average loss: 0.7276, Accuracy: 7419/10000 (74.19%)\n",
            "\n",
            "Adjusting learning rate of group 0 to 8.0000e-05.\n",
            "EPOCH: 16\n"
          ]
        },
        {
          "output_type": "stream",
          "name": "stderr",
          "text": [
            "Loss=1.0154167413711548 Batch_id=1562 Accuracy=66.73: 100%|██████████| 1563/1563 [00:51<00:00, 30.27it/s]\n"
          ]
        },
        {
          "output_type": "stream",
          "name": "stdout",
          "text": [
            "\n",
            "Test set: Average loss: 0.7319, Accuracy: 7387/10000 (73.87%)\n",
            "\n",
            "Adjusting learning rate of group 0 to 8.0000e-05.\n",
            "EPOCH: 17\n"
          ]
        },
        {
          "output_type": "stream",
          "name": "stderr",
          "text": [
            "Loss=0.9908268451690674 Batch_id=1562 Accuracy=66.59: 100%|██████████| 1563/1563 [00:51<00:00, 30.35it/s]\n"
          ]
        },
        {
          "output_type": "stream",
          "name": "stdout",
          "text": [
            "\n",
            "Test set: Average loss: 0.7348, Accuracy: 7386/10000 (73.86%)\n",
            "\n",
            "Adjusting learning rate of group 0 to 8.0000e-05.\n",
            "EPOCH: 18\n"
          ]
        },
        {
          "output_type": "stream",
          "name": "stderr",
          "text": [
            "Loss=0.8564012050628662 Batch_id=1562 Accuracy=66.53: 100%|██████████| 1563/1563 [00:52<00:00, 29.91it/s]\n"
          ]
        },
        {
          "output_type": "stream",
          "name": "stdout",
          "text": [
            "\n",
            "Test set: Average loss: 0.7336, Accuracy: 7371/10000 (73.71%)\n",
            "\n",
            "Adjusting learning rate of group 0 to 8.0000e-05.\n",
            "EPOCH: 19\n"
          ]
        },
        {
          "output_type": "stream",
          "name": "stderr",
          "text": [
            "Loss=0.848213791847229 Batch_id=1562 Accuracy=66.60: 100%|██████████| 1563/1563 [00:51<00:00, 30.11it/s]\n"
          ]
        },
        {
          "output_type": "stream",
          "name": "stdout",
          "text": [
            "\n",
            "Test set: Average loss: 0.7308, Accuracy: 7400/10000 (74.00%)\n",
            "\n",
            "Adjusting learning rate of group 0 to 1.6000e-05.\n"
          ]
        }
      ]
    },
    {
      "cell_type": "code",
      "execution_count": 15,
      "metadata": {
        "id": "URGbq6D_VK88",
        "colab": {
          "base_uri": "https://localhost:8080/"
        },
        "outputId": "f4a648b2-3623-434e-b824-1d8cf017b048"
      },
      "outputs": [
        {
          "output_type": "execute_result",
          "data": {
            "text/plain": [
              "Net(\n",
              "  (convblock1): Sequential(\n",
              "    (0): Conv2d(3, 32, kernel_size=(3, 3), stride=(1, 1), padding=(1, 1), bias=False)\n",
              "    (1): ReLU()\n",
              "    (2): BatchNorm2d(32, eps=1e-05, momentum=0.1, affine=True, track_running_stats=True)\n",
              "    (3): Dropout(p=0.07, inplace=False)\n",
              "    (4): Conv2d(32, 32, kernel_size=(3, 3), stride=(1, 1), padding=(1, 1), bias=False)\n",
              "    (5): ReLU()\n",
              "    (6): BatchNorm2d(32, eps=1e-05, momentum=0.1, affine=True, track_running_stats=True)\n",
              "    (7): Dropout(p=0.07, inplace=False)\n",
              "    (8): Conv2d(32, 64, kernel_size=(3, 3), stride=(1, 1), padding=(1, 1), bias=False)\n",
              "    (9): ReLU()\n",
              "    (10): BatchNorm2d(64, eps=1e-05, momentum=0.1, affine=True, track_running_stats=True)\n",
              "    (11): Dropout(p=0.07, inplace=False)\n",
              "    (12): Conv2d(64, 128, kernel_size=(3, 3), stride=(1, 1), padding=(1, 1), groups=32, bias=False)\n",
              "    (13): ReLU()\n",
              "    (14): BatchNorm2d(128, eps=1e-05, momentum=0.1, affine=True, track_running_stats=True)\n",
              "    (15): Dropout(p=0.07, inplace=False)\n",
              "    (16): Conv2d(128, 10, kernel_size=(3, 3), stride=(1, 1), padding=(1, 1), dilation=(2, 2), bias=False)\n",
              "    (17): ReLU()\n",
              "    (18): BatchNorm2d(10, eps=1e-05, momentum=0.1, affine=True, track_running_stats=True)\n",
              "    (19): Dropout(p=0.07, inplace=False)\n",
              "  )\n",
              "  (convblock2): Sequential(\n",
              "    (0): Conv2d(10, 32, kernel_size=(3, 3), stride=(1, 1), padding=(1, 1), bias=False)\n",
              "    (1): ReLU()\n",
              "    (2): BatchNorm2d(32, eps=1e-05, momentum=0.1, affine=True, track_running_stats=True)\n",
              "    (3): Dropout(p=0.07, inplace=False)\n",
              "    (4): Conv2d(32, 64, kernel_size=(3, 3), stride=(1, 1), padding=(1, 1), bias=False)\n",
              "    (5): ReLU()\n",
              "    (6): BatchNorm2d(64, eps=1e-05, momentum=0.1, affine=True, track_running_stats=True)\n",
              "    (7): Dropout(p=0.07, inplace=False)\n",
              "    (8): Conv2d(64, 128, kernel_size=(3, 3), stride=(1, 1), padding=(1, 1), groups=32, bias=False)\n",
              "    (9): ReLU()\n",
              "    (10): BatchNorm2d(128, eps=1e-05, momentum=0.1, affine=True, track_running_stats=True)\n",
              "    (11): Dropout(p=0.07, inplace=False)\n",
              "    (12): Conv2d(128, 10, kernel_size=(3, 3), stride=(1, 1), padding=(1, 1), dilation=(2, 2), bias=False)\n",
              "    (13): ReLU()\n",
              "    (14): BatchNorm2d(10, eps=1e-05, momentum=0.1, affine=True, track_running_stats=True)\n",
              "    (15): Dropout(p=0.07, inplace=False)\n",
              "  )\n",
              "  (convblock3): Sequential(\n",
              "    (0): Conv2d(10, 32, kernel_size=(3, 3), stride=(1, 1), padding=(1, 1), bias=False)\n",
              "    (1): ReLU()\n",
              "    (2): BatchNorm2d(32, eps=1e-05, momentum=0.1, affine=True, track_running_stats=True)\n",
              "    (3): Dropout(p=0.07, inplace=False)\n",
              "    (4): Conv2d(32, 64, kernel_size=(3, 3), stride=(1, 1), padding=(1, 1), bias=False)\n",
              "    (5): ReLU()\n",
              "    (6): BatchNorm2d(64, eps=1e-05, momentum=0.1, affine=True, track_running_stats=True)\n",
              "    (7): Dropout(p=0.07, inplace=False)\n",
              "    (8): Conv2d(64, 128, kernel_size=(3, 3), stride=(1, 1), padding=(1, 1), groups=32, bias=False)\n",
              "    (9): ReLU()\n",
              "    (10): BatchNorm2d(128, eps=1e-05, momentum=0.1, affine=True, track_running_stats=True)\n",
              "    (11): Dropout(p=0.07, inplace=False)\n",
              "    (12): Conv2d(128, 10, kernel_size=(3, 3), stride=(1, 1), padding=(1, 1), dilation=(2, 2), bias=False)\n",
              "    (13): ReLU()\n",
              "    (14): BatchNorm2d(10, eps=1e-05, momentum=0.1, affine=True, track_running_stats=True)\n",
              "    (15): Dropout(p=0.07, inplace=False)\n",
              "  )\n",
              "  (convblock4): Sequential(\n",
              "    (0): Conv2d(10, 64, kernel_size=(3, 3), stride=(1, 1), padding=(1, 1), bias=False)\n",
              "    (1): ReLU()\n",
              "    (2): BatchNorm2d(64, eps=1e-05, momentum=0.1, affine=True, track_running_stats=True)\n",
              "    (3): Dropout(p=0.07, inplace=False)\n",
              "    (4): Conv2d(64, 128, kernel_size=(3, 3), stride=(1, 1), padding=(1, 1), groups=32, bias=False)\n",
              "    (5): ReLU()\n",
              "    (6): BatchNorm2d(128, eps=1e-05, momentum=0.1, affine=True, track_running_stats=True)\n",
              "    (7): Dropout(p=0.07, inplace=False)\n",
              "    (8): Conv2d(128, 32, kernel_size=(3, 3), stride=(1, 1), padding=(1, 1), dilation=(2, 2), bias=False)\n",
              "    (9): ReLU()\n",
              "    (10): BatchNorm2d(32, eps=1e-05, momentum=0.1, affine=True, track_running_stats=True)\n",
              "    (11): Dropout(p=0.07, inplace=False)\n",
              "  )\n",
              "  (gap): Sequential(\n",
              "    (0): AdaptiveAvgPool2d(output_size=1)\n",
              "  )\n",
              "  (outputblock): Linear(in_features=32, out_features=10, bias=False)\n",
              ")"
            ]
          },
          "metadata": {},
          "execution_count": 15
        }
      ],
      "source": [
        "model"
      ]
    },
    {
      "cell_type": "code",
      "execution_count": 16,
      "metadata": {
        "id": "t2XkJ_mJVK89",
        "colab": {
          "base_uri": "https://localhost:8080/"
        },
        "outputId": "40304caf-3d53-4c1a-c305-01addd6a49e0"
      },
      "outputs": [
        {
          "output_type": "stream",
          "name": "stdout",
          "text": [
            "Total convolution layers: 16\n",
            "conv_layers\n"
          ]
        }
      ],
      "source": [
        "# we will save the conv layer weights in this list\n",
        "model_weights =[]\n",
        "#we will save the 49 conv layers in this list\n",
        "conv_layers = []\n",
        "# get all the model children as list\n",
        "model_children = list(model.children())\n",
        "#counter to keep count of the conv layers\n",
        "counter = 0\n",
        "#append all the conv layers and their respective wights to the list\n",
        "\n",
        "model_children = model.children()\n",
        "for children in model_children:\n",
        "    if type(children) == nn.Sequential:\n",
        "        for child in children:\n",
        "            if type(child) == nn.Conv2d:\n",
        "                counter += 1\n",
        "                model_weights.append(child.weight)\n",
        "                conv_layers.append(child)\n",
        "\n",
        "print(f\"Total convolution layers: {counter}\")\n",
        "print(\"conv_layers\")"
      ]
    },
    {
      "cell_type": "code",
      "execution_count": 17,
      "metadata": {
        "id": "rjIj7A9WVK89",
        "colab": {
          "base_uri": "https://localhost:8080/",
          "height": 229
        },
        "outputId": "cf189ae0-7fb0-4199-a48a-1c10c797c4ad"
      },
      "outputs": [
        {
          "output_type": "stream",
          "name": "stderr",
          "text": [
            "WARNING:matplotlib.image:Clipping input data to the valid range for imshow with RGB data ([0..1] for floats or [0..255] for integers).\n"
          ]
        },
        {
          "output_type": "display_data",
          "data": {
            "text/plain": [
              "<Figure size 640x480 with 1 Axes>"
            ],
            "image/png": "[encoded data removed]"
          },
          "metadata": {}
        }
      ],
      "source": [
        "# get some random training images\n",
        "dataiter = iter(train_loader)\n",
        "images, labels = next(dataiter)\n",
        "imshow(torchvision.utils.make_grid(images[:10]))"
      ]
    },
    {
      "cell_type": "code",
      "execution_count": 18,
      "metadata": {
        "id": "OGCtrYOPVK89",
        "colab": {
          "base_uri": "https://localhost:8080/",
          "height": 467
        },
        "outputId": "76d1f2aa-60de-473b-9ac8-b0677a3ef9cb"
      },
      "outputs": [
        {
          "output_type": "stream",
          "name": "stderr",
          "text": [
            "WARNING:matplotlib.image:Clipping input data to the valid range for imshow with RGB data ([0..1] for floats or [0..255] for integers).\n"
          ]
        },
        {
          "output_type": "display_data",
          "data": {
            "text/plain": [
              "<Figure size 640x480 with 1 Axes>"
            ],
            "image/png": "[encoded data removed]"
          },
          "metadata": {}
        }
      ],
      "source": [
        "image = images[9]\n",
        "imshow(image)"
      ]
    },
    {
      "cell_type": "code",
      "execution_count": 19,
      "metadata": {
        "id": "gp8evCnOVK8-"
      },
      "outputs": [],
      "source": [
        "image = image.unsqueeze(0)\n",
        "image = image.to(device)"
      ]
    },
    {
      "cell_type": "code",
      "execution_count": 20,
      "metadata": {
        "id": "1sZ_grLSVK8-",
        "colab": {
          "base_uri": "https://localhost:8080/"
        },
        "outputId": "7889ce35-a84a-433c-d774-8aecde98b8c4"
      },
      "outputs": [
        {
          "output_type": "stream",
          "name": "stdout",
          "text": [
            "16\n",
            "torch.Size([1, 32, 32, 32])\n",
            "torch.Size([1, 32, 32, 32])\n",
            "torch.Size([1, 64, 32, 32])\n",
            "torch.Size([1, 128, 32, 32])\n",
            "torch.Size([1, 10, 30, 30])\n",
            "torch.Size([1, 32, 30, 30])\n",
            "torch.Size([1, 64, 30, 30])\n",
            "torch.Size([1, 128, 30, 30])\n",
            "torch.Size([1, 10, 28, 28])\n",
            "torch.Size([1, 32, 28, 28])\n",
            "torch.Size([1, 64, 28, 28])\n",
            "torch.Size([1, 128, 28, 28])\n",
            "torch.Size([1, 10, 26, 26])\n",
            "torch.Size([1, 64, 26, 26])\n",
            "torch.Size([1, 128, 26, 26])\n",
            "torch.Size([1, 32, 24, 24])\n"
          ]
        }
      ],
      "source": [
        "outputs = []\n",
        "names = []\n",
        "for layer in conv_layers[0:]:\n",
        "    image = layer(image)\n",
        "    outputs.append(image)\n",
        "    names.append(str(layer))\n",
        "print(len(outputs))\n",
        "#print feature_maps\n",
        "for feature_map in outputs:\n",
        "    print(feature_map.shape)"
      ]
    },
    {
      "cell_type": "code",
      "execution_count": 21,
      "metadata": {
        "id": "gaJDvXOpVK8-",
        "colab": {
          "base_uri": "https://localhost:8080/"
        },
        "outputId": "f8e3e577-1346-4615-b3fa-23b0fa135941"
      },
      "outputs": [
        {
          "output_type": "stream",
          "name": "stdout",
          "text": [
            "(32, 32)\n",
            "(32, 32)\n",
            "(32, 32)\n",
            "(32, 32)\n",
            "(30, 30)\n",
            "(30, 30)\n",
            "(30, 30)\n",
            "(30, 30)\n",
            "(28, 28)\n",
            "(28, 28)\n",
            "(28, 28)\n",
            "(28, 28)\n",
            "(26, 26)\n",
            "(26, 26)\n",
            "(26, 26)\n",
            "(24, 24)\n"
          ]
        }
      ],
      "source": [
        "processed = []\n",
        "for feature_map in outputs:\n",
        "    feature_map = feature_map.squeeze(0)\n",
        "    gray_scale = torch.sum(feature_map,0)\n",
        "    # gray_scale = feature_map[0]\n",
        "    gray_scale = gray_scale / feature_map.shape[0]\n",
        "    processed.append(gray_scale.data.cpu().numpy())\n",
        "for fm in processed:\n",
        "    print(fm.shape)"
      ]
    },
    {
      "cell_type": "code",
      "execution_count": 22,
      "metadata": {
        "id": "IB1220cVVK8-",
        "colab": {
          "base_uri": "https://localhost:8080/",
          "height": 635
        },
        "outputId": "4ad299ae-31b9-4f25-d1e9-6765f05ffba6"
      },
      "outputs": [
        {
          "output_type": "display_data",
          "data": {
            "text/plain": [
              "<Figure size 600x1000 with 16 Axes>"
            ],
            "image/png": "[encoded data removed]"
          },
          "metadata": {}
        }
      ],
      "source": [
        "fig = plt.figure(figsize=(6, 10))\n",
        "for i in range(len(processed)):\n",
        "    a = fig.add_subplot(5, 4, i+1)\n",
        "    imgplot = plt.imshow(processed[i])\n",
        "    a.axis(\"off\")\n",
        "    a.set_title(names[i].split('(')[0], fontsize=10)\n",
        "plt.savefig(str('feature_maps.jpg'), bbox_inches='tight')"
      ]
    },
    {
      "cell_type": "code",
      "execution_count": 23,
      "metadata": {
        "id": "CIls2TgdVK8_",
        "colab": {
          "base_uri": "https://localhost:8080/",
          "height": 187
        },
        "outputId": "809e74df-91e8-4b5b-dbec-051a790e7802"
      },
      "outputs": [
        {
          "output_type": "display_data",
          "data": {
            "text/plain": [
              "<Figure size 500x400 with 32 Axes>"
            ],
            "image/png": "[encoded data removed]"
          },
          "metadata": {}
        }
      ],
      "source": [
        "# visualize the first conv layer filters\n",
        "plt.figure(figsize=(5, 4))\n",
        "first_layer_weights = model_weights[0].cpu()\n",
        "for i, filter in enumerate(first_layer_weights):\n",
        "    plt.subplot(8, 8, i+1) # (8, 8) because in conv0 we have 7x7 filters and total of 64 (see printed shapes)\n",
        "    plt.imshow(filter[0, :, :].detach(), cmap='gray')\n",
        "    plt.axis('off')\n",
        "plt.show()"
      ]
    },
    {
      "cell_type": "code",
      "execution_count": null,
      "metadata": {
        "id": "hOm09-R_VK8_"
      },
      "outputs": [],
      "source": []
    }
  ],
  "metadata": {
    "kernelspec": {
      "display_name": "Python 3",
      "name": "python3"
    },
    "language_info": {
      "codemirror_mode": {
        "name": "ipython",
        "version": 3
      },
      "file_extension": ".py",
      "mimetype": "text/x-python",
      "name": "python",
      "nbconvert_exporter": "python",
      "pygments_lexer": "ipython3",
      "version": "3.9.7"
    },
    "orig_nbformat": 4,
    "colab": {
      "provenance": [],
      "gpuType": "T4",
      "include_colab_link": true
    },
    "accelerator": "GPU"
  },
  "nbformat": 4,
  "nbformat_minor": 0
}