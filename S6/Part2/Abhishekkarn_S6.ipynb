{
  "nbformat": 4,
  "nbformat_minor": 0,
  "metadata": {
    "colab": {
      "provenance": [],
      "include_colab_link": true
    },
    "kernelspec": {
      "name": "python3",
      "display_name": "Python 3"
    },
    "accelerator": "GPU"
  },
  "cells": [
    {
      "cell_type": "markdown",
      "metadata": {
        "id": "view-in-github",
        "colab_type": "text"
      },
      "source": [
        "<a href=\"https://colab.research.google.com/github/Abhishek500/ERA/blob/main/S6/Part2/Abhishekkarn_S6.ipynb\" target=\"_parent\"><img src=\"https://colab.research.google.com/assets/colab-badge.svg\" alt=\"Open In Colab\"/></a>"
      ]
    },
    {
      "cell_type": "code",
      "metadata": {
        "id": "0m2JWFliFfKT"
      },
      "source": [
        "from __future__ import print_function\n",
        "import torch\n",
        "import torch.nn as nn\n",
        "import torch.nn.functional as F\n",
        "import torch.optim as optim\n",
        "from torchvision import datasets, transforms"
      ],
      "execution_count": 1,
      "outputs": []
    },
    {
      "cell_type": "code",
      "metadata": {
        "id": "h_Cx9q2QFgM7"
      },
      "source": [
        "# class Net(nn.Module):\n",
        "#     def __init__(self):\n",
        "#         super(Net, self).__init__()\n",
        "#         self.conv1 = nn.Sequential(nn.Conv2d(1, 16, 3, padding=1),nn.BatchNorm2d(16),nn.ReLU(),nn.Dropout(0.0))\n",
        "#         self.conv2 = nn.Sequential(nn.Conv2d(16, 16, 3, padding=1),nn.BatchNorm2d(16),nn.ReLU(),nn.Dropout(0.00))\n",
        "#         self.pool1 = nn.MaxPool2d(2, 2)\n",
        "#         self.conv3 = nn.Sequential(nn.Conv2d(16, 32, 3, padding=1),nn.BatchNorm2d(32),nn.ReLU(),nn.Dropout(0.00))\n",
        "#         self.conv4 = nn.Sequential(nn.Conv2d(32, 16, 3, padding=1),nn.BatchNorm2d(16),nn.ReLU(),nn.Dropout(0.00))\n",
        "#         self.pool2 = nn.MaxPool2d(2, 2)\n",
        "#         self.conv5 = nn.Sequential(nn.Conv2d(16, 32, 3, padding=1),nn.BatchNorm2d(32),nn.ReLU(),nn.Dropout(0.00))\n",
        "#         self.conv6 = nn.Sequential(nn.Conv2d(32, 4, 3, padding=1),nn.BatchNorm2d(4),nn.ReLU(),nn.Dropout(0.00))\n",
        "#         self.fc1 = nn.Linear(196, 10)\n",
        "\n",
        "\n",
        "#     def forward(self, x):\n",
        "#         x = self.pool1(self.conv2(self.conv1(x)))\n",
        "#         x = self.pool2(self.conv4(self.conv3(x)))\n",
        "#         x = self.conv6(self.conv5(x))\n",
        "#         x = x.view(-1, 196)\n",
        "#         x = self.fc1(x)\n",
        "\n",
        "#         #x = F.relu(self.conv7(x))\n",
        "#         x = x.view(-1, 10)\n",
        "#         return F.log_softmax(x)"
      ],
      "execution_count": 2,
      "outputs": []
    },
    {
      "cell_type": "code",
      "source": [
        "import torch.nn.functional as F\n",
        "\n",
        "class Net(nn.Module):\n",
        "    def __init__(self):\n",
        "        super(Net, self).__init__()\n",
        "        self.conv1 = nn.Sequential(nn.Conv2d(1, 8, 3, padding=1), nn.BatchNorm2d(8), nn.ReLU(), nn.Dropout(0.0))\n",
        "        self.conv2 = nn.Sequential(nn.Conv2d(8, 8, 3), nn.BatchNorm2d(8), nn.ReLU(), nn.Dropout(0.00))\n",
        "        self.conv3 = nn.Sequential(nn.Conv2d(8, 16, 1), nn.BatchNorm2d(16), nn.ReLU(), nn.Dropout(0.00))\n",
        "        self.conv4 = nn.Sequential(nn.Conv2d(16, 16, 3), nn.BatchNorm2d(16), nn.ReLU(), nn.Dropout(0.00))\n",
        "        self.conv5 = nn.Sequential(nn.Conv2d(16, 16, 3), nn.BatchNorm2d(16), nn.ReLU(), nn.Dropout(0.01))\n",
        "        self.pool1 = nn.MaxPool2d(2, 2)\n",
        "        self.conv6 = nn.Sequential(nn.Conv2d(16, 32, 3), nn.BatchNorm2d(32), nn.ReLU(), nn.Dropout(0.02))\n",
        "        self.conv7 = nn.Sequential(nn.Conv2d(32, 32, 3), nn.BatchNorm2d(32), nn.ReLU(), nn.Dropout(0.00))\n",
        "        self.global_pool = nn.AdaptiveAvgPool2d(1)  # Global average pooling layer\n",
        "\n",
        "        self.fc1 = nn.Linear(32, 10)  # Update the input size for the FC layer\n",
        "\n",
        "    def forward(self, x):\n",
        "        x = self.conv3(self.conv2(self.conv1(x)))\n",
        "        x= self.pool1(self.conv5(self.conv4(x)))\n",
        "        # x = self.pool2(self.conv4(self.conv3(x)))\n",
        "        x = self.conv7(self.conv6(x))\n",
        "        x = self.global_pool(x)  # Apply global average pooling\n",
        "        x = x.view(-1, 32)  # Flatten the tensor\n",
        "        x = self.fc1(x)\n",
        "        x = x.view(-1, 10)\n",
        "        return F.log_softmax(x)\n"
      ],
      "metadata": {
        "id": "KD5HIBMYRSL-"
      },
      "execution_count": 3,
      "outputs": []
    },
    {
      "cell_type": "code",
      "metadata": {
        "id": "xdydjYTZFyi3",
        "colab": {
          "base_uri": "https://localhost:8080/"
        },
        "outputId": "5fa0ea0f-af5f-494e-ae0e-4b5cd7c28db3"
      },
      "source": [
        "!pip install torchsummary\n",
        "from torchsummary import summary\n",
        "use_cuda = torch.cuda.is_available()\n",
        "device = torch.device(\"cuda\" if use_cuda else \"cpu\")\n",
        "model = Net().to(device)\n",
        "summary(model, input_size=(1, 28, 28))"
      ],
      "execution_count": 4,
      "outputs": [
        {
          "output_type": "stream",
          "name": "stdout",
          "text": [
            "Looking in indexes: https://pypi.org/simple, https://us-python.pkg.dev/colab-wheels/public/simple/\n",
            "Requirement already satisfied: torchsummary in /usr/local/lib/python3.10/dist-packages (1.5.1)\n",
            "----------------------------------------------------------------\n",
            "        Layer (type)               Output Shape         Param #\n",
            "================================================================\n",
            "            Conv2d-1            [-1, 8, 28, 28]              80\n",
            "       BatchNorm2d-2            [-1, 8, 28, 28]              16\n",
            "              ReLU-3            [-1, 8, 28, 28]               0\n",
            "           Dropout-4            [-1, 8, 28, 28]               0\n",
            "            Conv2d-5            [-1, 8, 26, 26]             584\n",
            "       BatchNorm2d-6            [-1, 8, 26, 26]              16\n",
            "              ReLU-7            [-1, 8, 26, 26]               0\n",
            "           Dropout-8            [-1, 8, 26, 26]               0\n",
            "            Conv2d-9           [-1, 16, 26, 26]             144\n",
            "      BatchNorm2d-10           [-1, 16, 26, 26]              32\n",
            "             ReLU-11           [-1, 16, 26, 26]               0\n",
            "          Dropout-12           [-1, 16, 26, 26]               0\n",
            "           Conv2d-13           [-1, 16, 24, 24]           2,320\n",
            "      BatchNorm2d-14           [-1, 16, 24, 24]              32\n",
            "             ReLU-15           [-1, 16, 24, 24]               0\n",
            "          Dropout-16           [-1, 16, 24, 24]               0\n",
            "           Conv2d-17           [-1, 16, 22, 22]           2,320\n",
            "      BatchNorm2d-18           [-1, 16, 22, 22]              32\n",
            "             ReLU-19           [-1, 16, 22, 22]               0\n",
            "          Dropout-20           [-1, 16, 22, 22]               0\n",
            "        MaxPool2d-21           [-1, 16, 11, 11]               0\n",
            "           Conv2d-22             [-1, 32, 9, 9]           4,640\n",
            "      BatchNorm2d-23             [-1, 32, 9, 9]              64\n",
            "             ReLU-24             [-1, 32, 9, 9]               0\n",
            "          Dropout-25             [-1, 32, 9, 9]               0\n",
            "           Conv2d-26             [-1, 32, 7, 7]           9,248\n",
            "      BatchNorm2d-27             [-1, 32, 7, 7]              64\n",
            "             ReLU-28             [-1, 32, 7, 7]               0\n",
            "          Dropout-29             [-1, 32, 7, 7]               0\n",
            "AdaptiveAvgPool2d-30             [-1, 32, 1, 1]               0\n",
            "           Linear-31                   [-1, 10]             330\n",
            "================================================================\n",
            "Total params: 19,922\n",
            "Trainable params: 19,922\n",
            "Non-trainable params: 0\n",
            "----------------------------------------------------------------\n",
            "Input size (MB): 0.00\n",
            "Forward/backward pass size (MB): 1.35\n",
            "Params size (MB): 0.08\n",
            "Estimated Total Size (MB): 1.43\n",
            "----------------------------------------------------------------\n"
          ]
        },
        {
          "output_type": "stream",
          "name": "stderr",
          "text": [
            "<ipython-input-3-a59f52434fea>:27: UserWarning: Implicit dimension choice for log_softmax has been deprecated. Change the call to include dim=X as an argument.\n",
            "  return F.log_softmax(x)\n"
          ]
        }
      ]
    },
    {
      "cell_type": "code",
      "metadata": {
        "id": "DqTWLaM5GHgH"
      },
      "source": [
        "torch.manual_seed(1)\n",
        "batch_size = 128\n",
        "\n",
        "kwargs = {'num_workers': 2, 'pin_memory': True} if use_cuda else {}\n",
        "train_loader = torch.utils.data.DataLoader(\n",
        "    datasets.MNIST('../data', train=True, download=True,\n",
        "                    transform=transforms.Compose([\n",
        "                     transforms.RandomAffine(degrees=20, translate=(0.1,0.1), scale=(0.9, 1.1)),\n",
        "                    transforms.ColorJitter(brightness=0.2, contrast=0.2),\n",
        "                        transforms.ToTensor(),\n",
        "                        transforms.Normalize((0.1307,), (0.3081,))\n",
        "                    ])),\n",
        "    batch_size=batch_size, shuffle=True, **kwargs)\n",
        "test_loader = torch.utils.data.DataLoader(\n",
        "    datasets.MNIST('../data', train=False, transform=transforms.Compose([\n",
        "                        transforms.ToTensor(),\n",
        "                        transforms.Normalize((0.1307,), (0.3081,))\n",
        "                    ])),\n",
        "    batch_size=batch_size, shuffle=True, **kwargs)\n"
      ],
      "execution_count": 5,
      "outputs": []
    },
    {
      "cell_type": "code",
      "metadata": {
        "id": "8fDefDhaFlwH"
      },
      "source": [
        "from tqdm import tqdm\n",
        "def train(model, device, train_loader, optimizer, epoch):\n",
        "    model.train()\n",
        "    pbar = tqdm(train_loader)\n",
        "    for batch_idx, (data, target) in enumerate(pbar):\n",
        "        data, target = data.to(device), target.to(device)\n",
        "        optimizer.zero_grad()\n",
        "        output = model(data)\n",
        "        loss = F.nll_loss(output, target)\n",
        "        loss.backward()\n",
        "        optimizer.step()\n",
        "        pbar.set_description(desc= f'loss={loss.item()} batch_id={batch_idx}')\n",
        "\n",
        "\n",
        "def test(model, device, test_loader):\n",
        "    model.eval()\n",
        "    test_loss = 0\n",
        "    correct = 0\n",
        "    with torch.no_grad():\n",
        "        for data, target in test_loader:\n",
        "            data, target = data.to(device), target.to(device)\n",
        "            output = model(data)\n",
        "            test_loss += F.nll_loss(output, target, reduction='sum').item()  # sum up batch loss\n",
        "            pred = output.argmax(dim=1, keepdim=True)  # get the index of the max log-probability\n",
        "            correct += pred.eq(target.view_as(pred)).sum().item()\n",
        "\n",
        "    test_loss /= len(test_loader.dataset)\n",
        "\n",
        "    print('\\nTest set: Average loss: {:.4f}, Accuracy: {}/{} ({:.2f}%)\\n'.format(\n",
        "        test_loss, correct, len(test_loader.dataset),\n",
        "        100. * correct / len(test_loader.dataset)))"
      ],
      "execution_count": 6,
      "outputs": []
    },
    {
      "cell_type": "code",
      "metadata": {
        "id": "MMWbLWO6FuHb",
        "colab": {
          "base_uri": "https://localhost:8080/"
        },
        "outputId": "bcebd5f8-a4dd-45b2-f4f7-0e1dbdb562a0"
      },
      "source": [
        "model = Net().to(device)\n",
        "optimizer = optim.SGD(model.parameters(), lr=0.01, momentum=0.9)\n",
        "scheduler = optim.lr_scheduler.StepLR(optimizer, step_size=5, gamma=0.4, verbose=True)\n",
        "\n",
        "for epoch in range(1, 21):\n",
        "    print(f'Epoch {epoch}')\n",
        "    train(model, device, train_loader, optimizer, epoch)\n",
        "    test(model, device, test_loader)\n",
        "    scheduler.step()"
      ],
      "execution_count": 7,
      "outputs": [
        {
          "output_type": "stream",
          "name": "stdout",
          "text": [
            "Adjusting learning rate of group 0 to 1.0000e-02.\n",
            "Epoch 1\n"
          ]
        },
        {
          "output_type": "stream",
          "name": "stderr",
          "text": [
            "\r  0%|          | 0/469 [00:00<?, ?it/s]<ipython-input-3-a59f52434fea>:27: UserWarning: Implicit dimension choice for log_softmax has been deprecated. Change the call to include dim=X as an argument.\n",
            "  return F.log_softmax(x)\n",
            "loss=0.2652016282081604 batch_id=468: 100%|██████████| 469/469 [00:40<00:00, 11.68it/s]\n"
          ]
        },
        {
          "output_type": "stream",
          "name": "stdout",
          "text": [
            "\n",
            "Test set: Average loss: 0.1919, Accuracy: 9379/10000 (93.79%)\n",
            "\n",
            "Adjusting learning rate of group 0 to 1.0000e-02.\n",
            "Epoch 2\n"
          ]
        },
        {
          "output_type": "stream",
          "name": "stderr",
          "text": [
            "loss=0.047356341034173965 batch_id=468: 100%|██████████| 469/469 [00:37<00:00, 12.56it/s]\n"
          ]
        },
        {
          "output_type": "stream",
          "name": "stdout",
          "text": [
            "\n",
            "Test set: Average loss: 0.0732, Accuracy: 9790/10000 (97.90%)\n",
            "\n",
            "Adjusting learning rate of group 0 to 1.0000e-02.\n",
            "Epoch 3\n"
          ]
        },
        {
          "output_type": "stream",
          "name": "stderr",
          "text": [
            "loss=0.04158792272210121 batch_id=468: 100%|██████████| 469/469 [00:35<00:00, 13.29it/s]\n"
          ]
        },
        {
          "output_type": "stream",
          "name": "stdout",
          "text": [
            "\n",
            "Test set: Average loss: 0.0552, Accuracy: 9848/10000 (98.48%)\n",
            "\n",
            "Adjusting learning rate of group 0 to 1.0000e-02.\n",
            "Epoch 4\n"
          ]
        },
        {
          "output_type": "stream",
          "name": "stderr",
          "text": [
            "loss=0.05347450450062752 batch_id=468: 100%|██████████| 469/469 [00:34<00:00, 13.55it/s]\n"
          ]
        },
        {
          "output_type": "stream",
          "name": "stdout",
          "text": [
            "\n",
            "Test set: Average loss: 0.0425, Accuracy: 9876/10000 (98.76%)\n",
            "\n",
            "Adjusting learning rate of group 0 to 1.0000e-02.\n",
            "Epoch 5\n"
          ]
        },
        {
          "output_type": "stream",
          "name": "stderr",
          "text": [
            "loss=0.1825782209634781 batch_id=468: 100%|██████████| 469/469 [00:34<00:00, 13.49it/s]\n"
          ]
        },
        {
          "output_type": "stream",
          "name": "stdout",
          "text": [
            "\n",
            "Test set: Average loss: 0.1137, Accuracy: 9603/10000 (96.03%)\n",
            "\n",
            "Adjusting learning rate of group 0 to 4.0000e-03.\n",
            "Epoch 6\n"
          ]
        },
        {
          "output_type": "stream",
          "name": "stderr",
          "text": [
            "loss=0.054840561002492905 batch_id=468: 100%|██████████| 469/469 [00:36<00:00, 12.79it/s]\n"
          ]
        },
        {
          "output_type": "stream",
          "name": "stdout",
          "text": [
            "\n",
            "Test set: Average loss: 0.0310, Accuracy: 9903/10000 (99.03%)\n",
            "\n",
            "Adjusting learning rate of group 0 to 4.0000e-03.\n",
            "Epoch 7\n"
          ]
        },
        {
          "output_type": "stream",
          "name": "stderr",
          "text": [
            "loss=0.01751616783440113 batch_id=468: 100%|██████████| 469/469 [00:35<00:00, 13.30it/s]\n"
          ]
        },
        {
          "output_type": "stream",
          "name": "stdout",
          "text": [
            "\n",
            "Test set: Average loss: 0.0223, Accuracy: 9930/10000 (99.30%)\n",
            "\n",
            "Adjusting learning rate of group 0 to 4.0000e-03.\n",
            "Epoch 8\n"
          ]
        },
        {
          "output_type": "stream",
          "name": "stderr",
          "text": [
            "loss=0.032609254121780396 batch_id=468: 100%|██████████| 469/469 [00:34<00:00, 13.46it/s]\n"
          ]
        },
        {
          "output_type": "stream",
          "name": "stdout",
          "text": [
            "\n",
            "Test set: Average loss: 0.0233, Accuracy: 9923/10000 (99.23%)\n",
            "\n",
            "Adjusting learning rate of group 0 to 4.0000e-03.\n",
            "Epoch 9\n"
          ]
        },
        {
          "output_type": "stream",
          "name": "stderr",
          "text": [
            "loss=0.04614601656794548 batch_id=468: 100%|██████████| 469/469 [00:34<00:00, 13.42it/s]\n"
          ]
        },
        {
          "output_type": "stream",
          "name": "stdout",
          "text": [
            "\n",
            "Test set: Average loss: 0.0224, Accuracy: 9931/10000 (99.31%)\n",
            "\n",
            "Adjusting learning rate of group 0 to 4.0000e-03.\n",
            "Epoch 10\n"
          ]
        },
        {
          "output_type": "stream",
          "name": "stderr",
          "text": [
            "loss=0.025957824662327766 batch_id=468: 100%|██████████| 469/469 [00:34<00:00, 13.49it/s]\n"
          ]
        },
        {
          "output_type": "stream",
          "name": "stdout",
          "text": [
            "\n",
            "Test set: Average loss: 0.0223, Accuracy: 9931/10000 (99.31%)\n",
            "\n",
            "Adjusting learning rate of group 0 to 1.6000e-03.\n",
            "Epoch 11\n"
          ]
        },
        {
          "output_type": "stream",
          "name": "stderr",
          "text": [
            "loss=0.01608751341700554 batch_id=468: 100%|██████████| 469/469 [00:35<00:00, 13.29it/s]\n"
          ]
        },
        {
          "output_type": "stream",
          "name": "stdout",
          "text": [
            "\n",
            "Test set: Average loss: 0.0188, Accuracy: 9944/10000 (99.44%)\n",
            "\n",
            "Adjusting learning rate of group 0 to 1.6000e-03.\n",
            "Epoch 12\n"
          ]
        },
        {
          "output_type": "stream",
          "name": "stderr",
          "text": [
            "loss=0.09536933898925781 batch_id=468: 100%|██████████| 469/469 [00:35<00:00, 13.17it/s]\n"
          ]
        },
        {
          "output_type": "stream",
          "name": "stdout",
          "text": [
            "\n",
            "Test set: Average loss: 0.0197, Accuracy: 9941/10000 (99.41%)\n",
            "\n",
            "Adjusting learning rate of group 0 to 1.6000e-03.\n",
            "Epoch 13\n"
          ]
        },
        {
          "output_type": "stream",
          "name": "stderr",
          "text": [
            "loss=0.06022774800658226 batch_id=468: 100%|██████████| 469/469 [00:36<00:00, 12.69it/s]\n"
          ]
        },
        {
          "output_type": "stream",
          "name": "stdout",
          "text": [
            "\n",
            "Test set: Average loss: 0.0189, Accuracy: 9943/10000 (99.43%)\n",
            "\n",
            "Adjusting learning rate of group 0 to 1.6000e-03.\n",
            "Epoch 14\n"
          ]
        },
        {
          "output_type": "stream",
          "name": "stderr",
          "text": [
            "loss=0.05443374440073967 batch_id=468: 100%|██████████| 469/469 [00:36<00:00, 12.83it/s]\n"
          ]
        },
        {
          "output_type": "stream",
          "name": "stdout",
          "text": [
            "\n",
            "Test set: Average loss: 0.0183, Accuracy: 9945/10000 (99.45%)\n",
            "\n",
            "Adjusting learning rate of group 0 to 1.6000e-03.\n",
            "Epoch 15\n"
          ]
        },
        {
          "output_type": "stream",
          "name": "stderr",
          "text": [
            "loss=0.019442318007349968 batch_id=468: 100%|██████████| 469/469 [00:36<00:00, 12.73it/s]\n"
          ]
        },
        {
          "output_type": "stream",
          "name": "stdout",
          "text": [
            "\n",
            "Test set: Average loss: 0.0183, Accuracy: 9947/10000 (99.47%)\n",
            "\n",
            "Adjusting learning rate of group 0 to 6.4000e-04.\n",
            "Epoch 16\n"
          ]
        },
        {
          "output_type": "stream",
          "name": "stderr",
          "text": [
            "loss=0.07237370312213898 batch_id=468: 100%|██████████| 469/469 [00:36<00:00, 13.00it/s]\n"
          ]
        },
        {
          "output_type": "stream",
          "name": "stdout",
          "text": [
            "\n",
            "Test set: Average loss: 0.0181, Accuracy: 9949/10000 (99.49%)\n",
            "\n",
            "Adjusting learning rate of group 0 to 6.4000e-04.\n",
            "Epoch 17\n"
          ]
        },
        {
          "output_type": "stream",
          "name": "stderr",
          "text": [
            "loss=0.1377377063035965 batch_id=468: 100%|██████████| 469/469 [00:36<00:00, 12.91it/s]\n"
          ]
        },
        {
          "output_type": "stream",
          "name": "stdout",
          "text": [
            "\n",
            "Test set: Average loss: 0.0179, Accuracy: 9946/10000 (99.46%)\n",
            "\n",
            "Adjusting learning rate of group 0 to 6.4000e-04.\n",
            "Epoch 18\n"
          ]
        },
        {
          "output_type": "stream",
          "name": "stderr",
          "text": [
            "loss=0.08722313493490219 batch_id=468: 100%|██████████| 469/469 [00:36<00:00, 12.97it/s]\n"
          ]
        },
        {
          "output_type": "stream",
          "name": "stdout",
          "text": [
            "\n",
            "Test set: Average loss: 0.0173, Accuracy: 9948/10000 (99.48%)\n",
            "\n",
            "Adjusting learning rate of group 0 to 6.4000e-04.\n",
            "Epoch 19\n"
          ]
        },
        {
          "output_type": "stream",
          "name": "stderr",
          "text": [
            "loss=0.04625461995601654 batch_id=468: 100%|██████████| 469/469 [00:37<00:00, 12.44it/s]\n"
          ]
        },
        {
          "output_type": "stream",
          "name": "stdout",
          "text": [
            "\n",
            "Test set: Average loss: 0.0176, Accuracy: 9948/10000 (99.48%)\n",
            "\n",
            "Adjusting learning rate of group 0 to 6.4000e-04.\n",
            "Epoch 20\n"
          ]
        },
        {
          "output_type": "stream",
          "name": "stderr",
          "text": [
            "loss=0.02031160518527031 batch_id=468: 100%|██████████| 469/469 [00:36<00:00, 13.00it/s]\n"
          ]
        },
        {
          "output_type": "stream",
          "name": "stdout",
          "text": [
            "\n",
            "Test set: Average loss: 0.0184, Accuracy: 9947/10000 (99.47%)\n",
            "\n",
            "Adjusting learning rate of group 0 to 2.5600e-04.\n"
          ]
        }
      ]
    },
    {
      "cell_type": "code",
      "source": [],
      "metadata": {
        "id": "7aAj9-KyP5A8"
      },
      "execution_count": 7,
      "outputs": []
    },
    {
      "cell_type": "code",
      "source": [],
      "metadata": {
        "id": "WrmSVvLXQm00"
      },
      "execution_count": 7,
      "outputs": []
    }
  ]
}